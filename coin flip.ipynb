{
 "cells": [
  {
   "cell_type": "code",
   "execution_count": 1,
   "id": "6610e861-9117-41e0-b501-c68f58f3200c",
   "metadata": {},
   "outputs": [
    {
     "name": "stdout",
     "output_type": "stream",
     "text": [
      "Name: Karim S Mulla\n",
      "USN: 1AY24AI052\n",
      "Section: M\n"
     ]
    },
    {
     "name": "stdin",
     "output_type": "stream",
     "text": [
      "Enter the number of coin flips:  2\n"
     ]
    },
    {
     "name": "stdout",
     "output_type": "stream",
     "text": [
      "Results: ['H', 'T']\n",
      "Longest streak: 1\n"
     ]
    }
   ],
   "source": [
    "print(\"Name: Karim S Mulla\")\n",
    "print(\"USN: 1AY24AI052\")\n",
    "print(\"Section: M\")\n",
    "import random\n",
    "flips = int(input(\"Enter the number of coin flips: \"))\n",
    "results = []\n",
    "streak = 0\n",
    "max_streak = 0\n",
    "for _ in range(flips):\n",
    "    flip = random.choice(['H', 'T'])\n",
    "    results.append(flip)\n",
    "    if len(results) > 1 and results[-1] == results[-2]:\n",
    "        streak += 1\n",
    "    else:\n",
    "        streak = 1\n",
    "    if streak > max_streak:\n",
    "        max_streak = streak\n",
    "print(\"Results:\", results)\n",
    "print(\"Longest streak:\", max_streak)"
   ]
  },
  {
   "cell_type": "code",
   "execution_count": null,
   "id": "0cd20f58-4eae-4547-aa15-c11b656249d0",
   "metadata": {},
   "outputs": [],
   "source": []
  }
 ],
 "metadata": {
  "kernelspec": {
   "display_name": "Python [conda env:base] *",
   "language": "python",
   "name": "conda-base-py"
  },
  "language_info": {
   "codemirror_mode": {
    "name": "ipython",
    "version": 3
   },
   "file_extension": ".py",
   "mimetype": "text/x-python",
   "name": "python",
   "nbconvert_exporter": "python",
   "pygments_lexer": "ipython3",
   "version": "3.12.7"
  }
 },
 "nbformat": 4,
 "nbformat_minor": 5
}
