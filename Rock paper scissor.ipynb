{
 "cells": [
  {
   "cell_type": "code",
   "execution_count": null,
   "id": "e6750dbd-8a1f-42bd-9cb8-ee14a0448549",
   "metadata": {},
   "outputs": [
    {
     "name": "stdout",
     "output_type": "stream",
     "text": [
      "Name: Karim S Mulla\n",
      "USN: 1AY24AI052\n",
      "Section: M\n"
     ]
    },
    {
     "name": "stdin",
     "output_type": "stream",
     "text": [
      "Enter rock, paper, or scissors (or 'quit' to stop):  paper\n"
     ]
    },
    {
     "name": "stdout",
     "output_type": "stream",
     "text": [
      "Computer chose: paper\n",
      "It's a tie!\n",
      "Score - You: 0, Computer: 0\n"
     ]
    }
   ],
   "source": [
    "print(\"Name: Karim S Mulla\")\n",
    "print(\"USN: 1AY24AI052\")\n",
    "print(\"Section: M\")\n",
    "import random\n",
    "\n",
    "options = [\"rock\", \"paper\", \"scissors\"]\n",
    "user_score = 0\n",
    "computer_score = 0\n",
    "\n",
    "while True:\n",
    "    user_choice = input(\"Enter rock, paper, or scissors (or 'quit' to stop): \").lower()\n",
    "    if user_choice == 'quit':\n",
    "        break\n",
    "    if user_choice not in options:\n",
    "        print(\"Invalid choice, please try again.\")\n",
    "        continue\n",
    "\n",
    "    computer_choice = random.choice(options)\n",
    "    print(f\"Computer chose: {computer_choice}\")\n",
    "\n",
    "    if user_choice == computer_choice:\n",
    "        print(\"It's a tie!\")\n",
    "    elif (user_choice == \"rock\" and computer_choice == \"scissors\") or \\\n",
    "         (user_choice == \"paper\" and computer_choice == \"rock\") or \\\n",
    "         (user_choice == \"scissors\" and computer_choice == \"paper\"):\n",
    "        print(\"You win!\")\n",
    "        user_score += 1\n",
    "    else:\n",
    "        print(\"You lose!\")\n",
    "        computer_score += 1\n",
    "\n",
    "    print(f\"Score - You: {user_score}, Computer: {computer_score}\")\n",
    "\n",
    "print(\"Game Over!\")\n",
    "print(f\"Final Score - You: {user_score}, Computer: {computer_score}\")"
   ]
  },
  {
   "cell_type": "code",
   "execution_count": null,
   "id": "c32cba58-8405-4c59-851f-bf94586f1d8b",
   "metadata": {},
   "outputs": [],
   "source": []
  }
 ],
 "metadata": {
  "kernelspec": {
   "display_name": "Python [conda env:base] *",
   "language": "python",
   "name": "conda-base-py"
  },
  "language_info": {
   "codemirror_mode": {
    "name": "ipython",
    "version": 3
   },
   "file_extension": ".py",
   "mimetype": "text/x-python",
   "name": "python",
   "nbconvert_exporter": "python",
   "pygments_lexer": "ipython3",
   "version": "3.12.7"
  }
 },
 "nbformat": 4,
 "nbformat_minor": 5
}
