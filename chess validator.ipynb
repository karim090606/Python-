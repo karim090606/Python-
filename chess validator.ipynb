{
 "cells": [
  {
   "cell_type": "code",
   "execution_count": 1,
   "id": "8ccb077b-bb63-42c0-ab64-ae79080ba051",
   "metadata": {},
   "outputs": [
    {
     "name": "stdout",
     "output_type": "stream",
     "text": [
      "Name: Karim S Mulla\n",
      "USN: 1AY24AI052\n",
      "Section: M\n",
      "True\n"
     ]
    }
   ],
   "source": [
    "print(\"Name: Karim S Mulla\")\n",
    "print(\"USN: 1AY24AI052\")\n",
    "print(\"Section: M\")\n",
    "chess_pieces = {\n",
    "    'K': 'King',\n",
    "    'Q': 'Queen',\n",
    "    'R': 'Rook',\n",
    "    'B': 'Bishop',\n",
    "    'N': 'Knight',\n",
    "    'P': 'Pawn'\n",
    "}\n",
    "\n",
    "def validate_chess_dict(chess_dict):\n",
    "    valid_keys = set(chess_pieces.keys())\n",
    "    for key in chess_dict.keys():\n",
    "        if key not in valid_keys:\n",
    "            return False\n",
    "    return True\n",
    "\n",
    "chess_dict = {\n",
    "    'K': 1,\n",
    "    'Q': 1,\n",
    "    'R': 2,\n",
    "    'B': 2,\n",
    "    'N': 2,\n",
    "    'P': 8\n",
    "}\n",
    "\n",
    "is_valid = validate_chess_dict(chess_dict)\n",
    "print(is_valid)"
   ]
  },
  {
   "cell_type": "code",
   "execution_count": null,
   "id": "eec7d15d-f6f5-4066-9a65-91c3368e12be",
   "metadata": {},
   "outputs": [],
   "source": []
  }
 ],
 "metadata": {
  "kernelspec": {
   "display_name": "Python [conda env:base] *",
   "language": "python",
   "name": "conda-base-py"
  },
  "language_info": {
   "codemirror_mode": {
    "name": "ipython",
    "version": 3
   },
   "file_extension": ".py",
   "mimetype": "text/x-python",
   "name": "python",
   "nbconvert_exporter": "python",
   "pygments_lexer": "ipython3",
   "version": "3.12.7"
  }
 },
 "nbformat": 4,
 "nbformat_minor": 5
}
