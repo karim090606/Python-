{
 "cells": [
  {
   "cell_type": "code",
   "execution_count": null,
   "id": "f4af9c35-759d-42d8-a287-952b85fab4fb",
   "metadata": {},
   "outputs": [
    {
     "name": "stdout",
     "output_type": "stream",
     "text": [
      "Name: Karim S Mulla\n",
      "USN: 1AY24AI052\n",
      "Section: M\n",
      "Welcome to the Guess the Number Game!\n",
      "I have selected a number between 1 and 100. Can you guess it?\n"
     ]
    },
    {
     "name": "stdin",
     "output_type": "stream",
     "text": [
      "Enter your guess:  70\n"
     ]
    },
    {
     "name": "stdout",
     "output_type": "stream",
     "text": [
      "Too low! Try again.\n"
     ]
    }
   ],
   "source": [
    "print(\"Name: Karim S Mulla\")\n",
    "print(\"USN: 1AY24AI052\")\n",
    "print(\"Section: M\")\n",
    "import random\n",
    "\n",
    "number_to_guess = random.randint(1, 100)\n",
    "attempts = 0\n",
    "guess = 0\n",
    "\n",
    "print(\"Welcome to the Guess the Number Game!\")\n",
    "print(\"I have selected a number between 1 and 100. Can you guess it?\")\n",
    "\n",
    "while guess != number_to_guess:\n",
    "    guess = int(input(\"Enter your guess: \"))\n",
    "    attempts += 1\n",
    "    if guess < number_to_guess:\n",
    "        print(\"Too low! Try again.\")\n",
    "    elif guess > number_to_guess:\n",
    "        print(\"Too high! Try again.\")\n",
    "    else:\n",
    "        print(f\"Congratulations! You've guessed the number {number_to_guess} in {attempts} attempts.\")"
   ]
  },
  {
   "cell_type": "code",
   "execution_count": null,
   "id": "2f4fcadf-3e96-4ef3-be8a-294af40dd79d",
   "metadata": {},
   "outputs": [],
   "source": []
  }
 ],
 "metadata": {
  "kernelspec": {
   "display_name": "Python [conda env:base] *",
   "language": "python",
   "name": "conda-base-py"
  },
  "language_info": {
   "codemirror_mode": {
    "name": "ipython",
    "version": 3
   },
   "file_extension": ".py",
   "mimetype": "text/x-python",
   "name": "python",
   "nbconvert_exporter": "python",
   "pygments_lexer": "ipython3",
   "version": "3.12.7"
  }
 },
 "nbformat": 4,
 "nbformat_minor": 5
}
