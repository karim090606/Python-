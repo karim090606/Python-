{
 "cells": [
  {
   "cell_type": "code",
   "execution_count": null,
   "id": "b1936b66-c0d4-4060-b644-5073c5240bc5",
   "metadata": {},
   "outputs": [
    {
     "name": "stdout",
     "output_type": "stream",
     "text": [
      "Name: Karim S Mulla\n",
      "USN: 1AY24AI052\n",
      "Section: M\n"
     ]
    },
    {
     "name": "stdin",
     "output_type": "stream",
     "text": [
      "Would you like to 'add', 'remove', or 'view' items? (type 'exit' to quit):  add\n",
      "Enter the item you want to add:  choco\n",
      "Enter the quantity:  2\n"
     ]
    },
    {
     "name": "stdout",
     "output_type": "stream",
     "text": [
      "2 choco(s) added to your inventory.\n"
     ]
    }
   ],
   "source": [
    "print(\"Name: Karim S Mulla\")\n",
    "print(\"USN: 1AY24AI052\")\n",
    "print(\"Section: M\")\n",
    "inventory = {}\n",
    "while True:\n",
    "    action = input(\"Would you like to 'add', 'remove', or 'view' items? (type 'exit' to quit): \").lower()\n",
    "    if action == 'add':\n",
    "        item = input(\"Enter the item you want to add: \")\n",
    "        quantity = int(input(\"Enter the quantity: \"))\n",
    "        if item in inventory:\n",
    "            inventory[item] += quantity\n",
    "        else:\n",
    "            inventory[item] = quantity\n",
    "        print(f\"{quantity} {item}(s) added to your inventory.\")\n",
    "    elif action == 'remove':\n",
    "        item = input(\"Enter the item you want to remove: \")\n",
    "        if item in inventory:\n",
    "            quantity = int(input(\"Enter the quantity: \"))\n",
    "            if quantity >= inventory[item]:\n",
    "                del inventory[item]\n",
    "                print(f\"{item} removed from your inventory.\")\n",
    "            else:\n",
    "                inventory[item] -= quantity\n",
    "                print(f\"{quantity} {item}(s) removed from your inventory.\")\n",
    "        else:\n",
    "            print(f\"{item} is not in your inventory.\")\n",
    "    elif action == 'view':\n",
    "        if inventory:\n",
    "            print(\"Your inventory:\")\n",
    "            for item, quantity in inventory.items():\n",
    "                print(f\"{item}: {quantity}\")\n",
    "        else:\n",
    "            print(\"Your inventory is empty.\")\n",
    "    elif action == 'exit':\n",
    "        break\n",
    "    else:\n",
    "        print(\"Invalid action. Please try again.\")"
   ]
  },
  {
   "cell_type": "code",
   "execution_count": null,
   "id": "457ec29c-13a0-41b4-8ab5-8c070d6e4830",
   "metadata": {},
   "outputs": [],
   "source": []
  }
 ],
 "metadata": {
  "kernelspec": {
   "display_name": "Python [conda env:base] *",
   "language": "python",
   "name": "conda-base-py"
  },
  "language_info": {
   "codemirror_mode": {
    "name": "ipython",
    "version": 3
   },
   "file_extension": ".py",
   "mimetype": "text/x-python",
   "name": "python",
   "nbconvert_exporter": "python",
   "pygments_lexer": "ipython3",
   "version": "3.12.7"
  }
 },
 "nbformat": 4,
 "nbformat_minor": 5
}
