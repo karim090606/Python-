{
 "cells": [
  {
   "cell_type": "code",
   "execution_count": 1,
   "id": "b0872b64-9b80-4d13-a055-68cacc41f93a",
   "metadata": {},
   "outputs": [
    {
     "name": "stdout",
     "output_type": "stream",
     "text": [
      "Name: Karim S Mulla\n",
      "USN: 1AY24AI052\n",
      "Section: M\n"
     ]
    },
    {
     "name": "stdin",
     "output_type": "stream",
     "text": [
      "Enter the size of the grid (for example 6 for 6X6:  5\n"
     ]
    },
    {
     "name": "stdout",
     "output_type": "stream",
     "text": [
      "* * * * * \n",
      "* * * * * \n",
      "* * * * * \n",
      "* * * * * \n",
      "* * * * * \n"
     ]
    }
   ],
   "source": [
    "print(\"Name: Karim S Mulla\")\n",
    "print(\"USN: 1AY24AI052\")\n",
    "print(\"Section: M\")\n",
    "grid_size = int(input(\"Enter the size of the grid (for example 6 for 6X6: \"))\n",
    "for i in range(grid_size):\n",
    "    for j in range(grid_size):\n",
    "        print(\"*\", end=\" \")\n",
    "    print()"
   ]
  },
  {
   "cell_type": "code",
   "execution_count": null,
   "id": "da2cf939-3aa5-4ae6-b4d5-4bde07eb7bdf",
   "metadata": {},
   "outputs": [],
   "source": []
  }
 ],
 "metadata": {
  "kernelspec": {
   "display_name": "Python [conda env:base] *",
   "language": "python",
   "name": "conda-base-py"
  },
  "language_info": {
   "codemirror_mode": {
    "name": "ipython",
    "version": 3
   },
   "file_extension": ".py",
   "mimetype": "text/x-python",
   "name": "python",
   "nbconvert_exporter": "python",
   "pygments_lexer": "ipython3",
   "version": "3.12.7"
  }
 },
 "nbformat": 4,
 "nbformat_minor": 5
}
